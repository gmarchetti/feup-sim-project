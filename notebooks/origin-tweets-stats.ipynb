{
 "cells": [
  {
   "cell_type": "code",
   "execution_count": 2,
   "id": "207705de",
   "metadata": {},
   "outputs": [
    {
     "data": {
      "text/html": [
       "<div>\n",
       "<style scoped>\n",
       "    .dataframe tbody tr th:only-of-type {\n",
       "        vertical-align: middle;\n",
       "    }\n",
       "\n",
       "    .dataframe tbody tr th {\n",
       "        vertical-align: top;\n",
       "    }\n",
       "\n",
       "    .dataframe thead th {\n",
       "        text-align: right;\n",
       "    }\n",
       "</style>\n",
       "<table border=\"1\" class=\"dataframe\">\n",
       "  <thead>\n",
       "    <tr style=\"text-align: right;\">\n",
       "      <th></th>\n",
       "      <th>create_date</th>\n",
       "      <th>tweet_id</th>\n",
       "      <th>similarity</th>\n",
       "      <th>like_count</th>\n",
       "      <th>retweet_count</th>\n",
       "      <th>post_text</th>\n",
       "      <th>claim_number</th>\n",
       "      <th>group</th>\n",
       "      <th>hashtag</th>\n",
       "      <th>tweet_user</th>\n",
       "    </tr>\n",
       "  </thead>\n",
       "  <tbody>\n",
       "    <tr>\n",
       "      <th>0</th>\n",
       "      <td>2020-07-28T14:04:36.000Z</td>\n",
       "      <td>1288113129889517578</td>\n",
       "      <td>0.000000</td>\n",
       "      <td>2823</td>\n",
       "      <td>1050</td>\n",
       "      <td>The latest round of testing from the Miami Mar...</td>\n",
       "      <td>0</td>\n",
       "      <td>1</td>\n",
       "      <td>NaN</td>\n",
       "      <td>85952</td>\n",
       "    </tr>\n",
       "    <tr>\n",
       "      <th>1</th>\n",
       "      <td>2020-07-28T03:36:37.000Z</td>\n",
       "      <td>1287955090184105984</td>\n",
       "      <td>0.000000</td>\n",
       "      <td>54</td>\n",
       "      <td>100</td>\n",
       "      <td>Scammers are cold calling Victorians claiming ...</td>\n",
       "      <td>0</td>\n",
       "      <td>1</td>\n",
       "      <td>COVID</td>\n",
       "      <td>5342</td>\n",
       "    </tr>\n",
       "    <tr>\n",
       "      <th>2</th>\n",
       "      <td>2020-07-27T21:05:06.000Z</td>\n",
       "      <td>1287856562200088581</td>\n",
       "      <td>0.000000</td>\n",
       "      <td>822</td>\n",
       "      <td>428</td>\n",
       "      <td>“It feels like we’re alone,” Hialeah, FL, Mayo...</td>\n",
       "      <td>0</td>\n",
       "      <td>1</td>\n",
       "      <td>NaN</td>\n",
       "      <td>78787</td>\n",
       "    </tr>\n",
       "    <tr>\n",
       "      <th>3</th>\n",
       "      <td>2020-07-27T14:54:11.000Z</td>\n",
       "      <td>1287763218933395461</td>\n",
       "      <td>0.000000</td>\n",
       "      <td>36687</td>\n",
       "      <td>14982</td>\n",
       "      <td>The best laid plans of a multi-billion dollar ...</td>\n",
       "      <td>0</td>\n",
       "      <td>1</td>\n",
       "      <td>NaN</td>\n",
       "      <td>80798</td>\n",
       "    </tr>\n",
       "    <tr>\n",
       "      <th>4</th>\n",
       "      <td>2020-04-02T14:37:32.000Z</td>\n",
       "      <td>1245722037869477896</td>\n",
       "      <td>0.404285</td>\n",
       "      <td>13276</td>\n",
       "      <td>4154</td>\n",
       "      <td>NYC’s case fatality rate for Covid19 is now al...</td>\n",
       "      <td>57</td>\n",
       "      <td>1</td>\n",
       "      <td>NaN</td>\n",
       "      <td>80798</td>\n",
       "    </tr>\n",
       "  </tbody>\n",
       "</table>\n",
       "</div>"
      ],
      "text/plain": [
       "                create_date             tweet_id  similarity  like_count  \\\n",
       "0  2020-07-28T14:04:36.000Z  1288113129889517578    0.000000        2823   \n",
       "1  2020-07-28T03:36:37.000Z  1287955090184105984    0.000000          54   \n",
       "2  2020-07-27T21:05:06.000Z  1287856562200088581    0.000000         822   \n",
       "3  2020-07-27T14:54:11.000Z  1287763218933395461    0.000000       36687   \n",
       "4  2020-04-02T14:37:32.000Z  1245722037869477896    0.404285       13276   \n",
       "\n",
       "   retweet_count                                          post_text  \\\n",
       "0           1050  The latest round of testing from the Miami Mar...   \n",
       "1            100  Scammers are cold calling Victorians claiming ...   \n",
       "2            428  “It feels like we’re alone,” Hialeah, FL, Mayo...   \n",
       "3          14982  The best laid plans of a multi-billion dollar ...   \n",
       "4           4154  NYC’s case fatality rate for Covid19 is now al...   \n",
       "\n",
       "   claim_number  group hashtag  tweet_user  \n",
       "0             0      1     NaN       85952  \n",
       "1             0      1   COVID        5342  \n",
       "2             0      1     NaN       78787  \n",
       "3             0      1     NaN       80798  \n",
       "4            57      1     NaN       80798  "
      ]
     },
     "execution_count": 2,
     "metadata": {},
     "output_type": "execute_result"
    }
   ],
   "source": [
    "import pandas as pd\n",
    "import numpy as np\n",
    "\n",
    "TWEET_DATA_PATH = \"../FibVID/claim_propagation/origin_tweet.csv\"\n",
    "\n",
    "df_tweet = pd.read_csv(TWEET_DATA_PATH)\n",
    "df_tweet.head()"
   ]
  },
  {
   "cell_type": "code",
   "execution_count": null,
   "id": "f50c8a71",
   "metadata": {},
   "outputs": [
    {
     "data": {
      "text/plain": [
       "np.float64(6.013559322033898)"
      ]
     },
     "execution_count": 6,
     "metadata": {},
     "output_type": "execute_result"
    }
   ],
   "source": [
    "unique, counts = np.unique(df_tweet[\"claim_number\"], return_counts=True)\n",
    "np.average(counts)"
   ]
  },
  {
   "cell_type": "code",
   "execution_count": 7,
   "id": "25075632",
   "metadata": {},
   "outputs": [
    {
     "data": {
      "text/plain": [
       "np.int64(38)"
      ]
     },
     "execution_count": 7,
     "metadata": {},
     "output_type": "execute_result"
    }
   ],
   "source": [
    "np.max(counts)"
   ]
  }
 ],
 "metadata": {
  "kernelspec": {
   "display_name": ".ir-env",
   "language": "python",
   "name": "python3"
  },
  "language_info": {
   "codemirror_mode": {
    "name": "ipython",
    "version": 3
   },
   "file_extension": ".py",
   "mimetype": "text/x-python",
   "name": "python",
   "nbconvert_exporter": "python",
   "pygments_lexer": "ipython3",
   "version": "3.12.3"
  }
 },
 "nbformat": 4,
 "nbformat_minor": 5
}
